{
 "cells": [
  {
   "cell_type": "code",
   "execution_count": 2,
   "id": "fab1a119-5b90-44b8-a14f-1c5b5c6b0e38",
   "metadata": {
    "tags": []
   },
   "outputs": [],
   "source": [
    "from googleapiclient.discovery import build\n",
    "import pandas as pd\n",
    "from IPython.display import JSON\n",
    "import os"
   ]
  },
  {
   "cell_type": "code",
   "execution_count": 18,
   "id": "feb8e21f-27b8-4050-aaa0-493b3c31c43d",
   "metadata": {
    "tags": []
   },
   "outputs": [],
   "source": [
    "def get_channels(youtube, channels_ids, path):\n",
    "    all_data = []\n",
    "    \n",
    "    request = youtube.channels().list(\n",
    "    part=\"snippet,contentDetails,statistics\",\n",
    "    id=\",\".join(channels_ids))\n",
    "    \n",
    "    response = request.execute()\n",
    "    \n",
    "    # Loop through items\n",
    "    for item in response[\"items\"]:\n",
    "        data={\"channelName\": item[\"snippet\"][\"title\"], \n",
    "             \"subscribers\": item[\"statistics\"][\"subscriberCount\"], \n",
    "             \"views\": item[\"statistics\"][\"viewCount\"], \n",
    "             \"totalViews\":item[\"statistics\"][\"videoCount\"], \n",
    "             \"playlistId\":item[\"contentDetails\"][\"relatedPlaylists\"][\"uploads\"]}\n",
    "        \n",
    "        all_data.append(data)\n",
    "    channels = pd.DataFrame(all_data)\n",
    "    return channels, channels.to_csv(path + \"all-channels.csv\", index=None)"
   ]
  },
  {
   "cell_type": "code",
   "execution_count": 61,
   "id": "86b94242-a11f-42ec-99f3-a5e4a4ae1a96",
   "metadata": {
    "tags": []
   },
   "outputs": [],
   "source": [
    "def get_video_ids(youtube, playlist_id):\n",
    "    video_ids=[]\n",
    "    request = youtube.playlistItems().list(\n",
    "    part=\"snippet,contentDetails\",\n",
    "    playlistId=playlist_id, \n",
    "    maxResults =50\n",
    "    )\n",
    "    response = request.execute()\n",
    "    for i in range(len(response['items'])):\n",
    "        video_ids.append(response['items'][i]['contentDetails']['videoId'])\n",
    "        \n",
    "    next_page_token = response.get('nextPageToken')\n",
    "    more_pages = True\n",
    "    \n",
    "\n",
    "    while more_pages:\n",
    "        if next_page_token is None:\n",
    "            more_pages = False\n",
    "        else:\n",
    "            request = youtube.playlistItems().list(\n",
    "            part=\"snippet,contentDetails\",\n",
    "            playlistId=playlist_id, \n",
    "            maxResults =50, \n",
    "            pageToken = next_page_token)\n",
    "            response = request.execute()\n",
    "        \n",
    "            for i in range(len(response['items'])):\n",
    "                video_ids.append(response['items'][i]['contentDetails']['videoId'])\n",
    "            \n",
    "            next_page_token = response.get('nextPageToken')\n",
    "\n",
    "\n",
    "    return video_ids"
   ]
  },
  {
   "cell_type": "code",
   "execution_count": 55,
   "id": "a2cebe7e",
   "metadata": {
    "tags": []
   },
   "outputs": [],
   "source": [
    "def get_video_details(youtube, videos_id):\n",
    "    all_video_info = []\n",
    "    \n",
    "    for i in range(0, len(videos_id), 50):\n",
    "        request = youtube.videos().list(\n",
    "        part=\"snippet,contentDetails,statistics\",\n",
    "        id=\",\".join(videos_id[i:i+50])\n",
    "        )\n",
    "        response = request.execute()\n",
    "\n",
    "        for video in response[\"items\"]:\n",
    "            stats_to_keep = {\"snippet\": [\"channelTitle\", \"title\", \"description\", \"tags\", \"publishedAt\"],\n",
    "                             \"statistics\":[\"viewCount\", \"likeCount\", \"favoriteCount\", \"commentCount\"],\n",
    "                             \"contentDetails\": [\"duration\", \"definition\", \"caption\"]}\n",
    "            video_info={}\n",
    "            video_info[\"video_id\"] = video[\"id\"]\n",
    "\n",
    "            for k in stats_to_keep.keys():\n",
    "                for v in stats_to_keep[k]:\n",
    "                    try:\n",
    "                        video_info[v] = video[k][v]\n",
    "                    except:\n",
    "                        video_info[v] = None\n",
    "            all_video_info.append(video_info)\n",
    "    return pd.DataFrame(all_video_info)"
   ]
  },
  {
   "cell_type": "code",
   "execution_count": 5,
   "id": "33e47ee4-3056-420d-b043-46f1a3104546",
   "metadata": {
    "tags": []
   },
   "outputs": [],
   "source": [
    "def get_comments(youtube, videos_id):\n",
    "    all_comments = []\n",
    "    \n",
    "    for video_id in videos_id:\n",
    "        try:\n",
    "            request = youtube.commentThreads().list(\n",
    "            part=\"snippet,replies\",\n",
    "            videoId = video_id)\n",
    "            response = request.execute()\n",
    "            comments_in_video = [comment[\"snippet\"][\"topLevelComment\"][\"snippet\"][\"textOriginal\"] for comment in response[\"items\"]]\n",
    "            comments_in_video_info = {\"video_id\": video_id, \"comments\": comments_in_video}\n",
    "\n",
    "            all_comments.append(comments_in_video_info)\n",
    "        except:\n",
    "            print(f\"Could not get comments for video {video_id}\")\n",
    "    return pd.DataFrame(all_comments)\n",
    "    "
   ]
  },
  {
   "cell_type": "code",
   "execution_count": null,
   "id": "6fbc9032-de2c-4d00-bb72-16fc17be793a",
   "metadata": {
    "tags": []
   },
   "outputs": [],
   "source": [
    "def save(youtube, path, playlist_id):\n",
    "    if os.path.exists(path):\n",
    "        print(f\"The file {path}already exists\")\n",
    "        return\n",
    "    videos_id = get_video_ids(youtube, playlist_id)\n",
    "    all_video_info = get_video_details(youtube, videos_id)\n",
    "    \n",
    "    comments = get_comments(youtube, videos_id)\n",
    "    all_data = pd.concat([all_video_info, comments], axis=1)\n",
    "    all_video_info.to_csv(path, index=None, encoding = \"UTF-8\")"
   ]
  },
  {
   "cell_type": "code",
   "execution_count": 2,
   "id": "d542d62e-8d8a-41fd-b7fc-eb264f485ab6",
   "metadata": {
    "tags": []
   },
   "outputs": [],
   "source": [
    "def main():\n",
    "    api_key = #insert here your api key\n",
    "    api_service_name = \"youtube\"\n",
    "    api_version = \"v3\"\n",
    "    \n",
    "    # Get credentials and create an API client\n",
    "    youtube = build(api_service_name, api_version, developerKey=api_key)\n",
    "    channels_ids=[\"UCnkp4xDOwqqJD7sSM3xdUiQ\",   # Adam Neely\n",
    "                  \"UCLuHOqDilyLQT4NPXQuVN4Q\",   # BenL evin\n",
    "                  \"UC4PIiYewI1YGyiZvgNlJNrA\",   # CharlesCornell\n",
    "                  \"UCz2iUx-Imr6HgDC3zAFpjOw\",   # DavidBennetPiano\n",
    "                  \"UCh-PyMficPzVAihCJkFJVAA\",   # David Bruce Composer\n",
    "                  \"UCtmY49Zn4l0RMJnTWfV7Wsg\",   # Jacob Collier\n",
    "                  \"UCa3DVlGH2_QhvwuWlPa6MDQ\",   # Jaime Altozano\n",
    "                  \"UC8R8FRt1KcPiR-rtAflXmeg\",   # Nahre Sol\n",
    "                  \"UCl_dlV_7ofr4qeP1drJQ-qg\"]   # Tantacrul\n",
    "    \n",
    "    os.makedirs(\"data\", exist_ok = True)\n",
    "    channels, channels_df = get_channels(youtube, channels_ids,\"data/\")\n",
    "    \n",
    "    for index, row in channels.iterrows():\n",
    "        print(\"Getting data from: \", row[\"channelName\"])\n",
    "        save(youtube, \"data/\" + row[\"channelName\"].replace(\" \",\"-\") + \".csv\", row[\"playlistId\"])\n",
    "        "
   ]
  }
 ],
 "metadata": {
  "kernelspec": {
   "display_name": "Python 3 (ipykernel)",
   "language": "python",
   "name": "python3"
  },
  "language_info": {
   "codemirror_mode": {
    "name": "ipython",
    "version": 3
   },
   "file_extension": ".py",
   "mimetype": "text/x-python",
   "name": "python",
   "nbconvert_exporter": "python",
   "pygments_lexer": "ipython3",
   "version": "3.10.6"
  }
 },
 "nbformat": 4,
 "nbformat_minor": 5
}
